{
 "cells": [
  {
   "cell_type": "code",
   "execution_count": 5,
   "metadata": {},
   "outputs": [],
   "source": [
    "\"\"\"\n",
    "Uses the Fox-Goodwin method to solve for the radial component of an\n",
    "angular momentum state of the radial Schroedinger equation\n",
    "\"\"\"\n",
    "def solve(l : int, E : float, h2m : float, V : np.array, r : np.array, u : np.array):\n",
    "    grid_size = V.size\n",
    "    assert(r.size == grid_size)\n",
    "    assert(u.size == grid_size)\n",
    "    deltar = r[1:] - r[:-1]\n",
    "    h = deltar[0]\n",
    "\n",
    "    # set up potentials\n",
    "    w    = (E - V) / h2m  - l * (l + 1) / r**2\n",
    "    w[0] = np.complex(0,0)\n",
    "\n",
    "    # finite difference: fox-goodwin scheme O(deltar^4)\n",
    "    k = h**2/12\n",
    "    for i in range(1,grid_size-1):\n",
    "        u[i+1] = (2*u[i] - u[i-1] - k * (10 * w[i] * u[i] + w[i-1] * u[i-1])) /\\\n",
    "                 (1 + k * w[i+1] )\n",
    "\n",
    "    return u\n"
   ]
  },
  {
   "cell_type": "code",
   "execution_count": 36,
   "metadata": {},
   "outputs": [
    {
     "name": "stderr",
     "output_type": "stream",
     "text": [
      "<ipython-input-5-3c4ddc857760>:13: RuntimeWarning: divide by zero encountered in true_divide\n",
      "  w    = (E - V) / h2m  - l * (l + 1) / r**2\n",
      "<ipython-input-36-8e9ce6e253da>:36: RuntimeWarning: invalid value encountered in true_divide\n",
      "  u =  (solve(l,En,h2m,V,r,u)/r)[1:]\n"
     ]
    },
    {
     "data": {
      "image/png": "[encoded data removed]",
      "text/plain": [
       "<Figure size 432x288 with 1 Axes>"
      ]
     },
     "metadata": {
      "needs_background": "light"
     },
     "output_type": "display_data"
    }
   ],
   "source": [
    "%matplotlib inline\n",
    "\n",
    "import numpy as np\n",
    "from scipy.special import genlaguerre as Lag\n",
    "import matplotlib.pyplot as plt\n",
    "\n",
    "# physical constants and parameters\n",
    "hbar = 1 # if you're not using natural units, get a life\n",
    "m = 1\n",
    "omega = 1\n",
    "h2m = hbar/(2*m)\n",
    "l = 1\n",
    "n = 1\n",
    "if (n-l)%2 == 0: \n",
    "    k = (n-l)/2\n",
    "else: \n",
    "    k = 0\n",
    "En = hbar * omega * (n + 3/2) \n",
    "\n",
    "# radial grid\n",
    "# RMAX can't be too big or numerical instabilties will result\n",
    "RMAX = 2.5*np.sqrt(2*En/(m*omega)) # extend into forbidden region (E < V)\n",
    "NR   = 1000\n",
    "r  = np.linspace(0,RMAX,NR)\n",
    "\n",
    "\n",
    "\n",
    "# potential \n",
    "V = np.zeros(r.shape, dtype=\"cdouble\")\n",
    "V.real = 1/2 * m * omega**2 * r**2\n",
    "\n",
    "# wavefunction\n",
    "u    = np.zeros(V.shape, dtype=\"cdouble\") # complex\n",
    "u[1] = np.complex(1,1) # boundary condition \n",
    "\n",
    "u =  (solve(l,En,h2m,V,r,u)/r)[1:]\n",
    "\n",
    "L = Lag(k,l+1/2)\n",
    "analytic = (r**l * np.exp(- m*omega/(2*hbar) * r**2) * L( (2*m*omega)/(2*hbar) * r**2 ))[1:]\n",
    "\n",
    "plt.title(r\"$|l,n\\rangle = |{},{}\\rangle$\".format(l,n))\n",
    "rho = (u.real**2 + u.imag**2)\n",
    "plt.plot(r[1:],analytic/np.sum(analytic),label=r\"analytic\")\n",
    "plt.plot(r[1:],u.real/np.sum(u.real) ,'--',label=r\"numerical\")\n",
    "#plt.plot(r,u.imag/np.sum(u.imag),label=r\"Im[$\\psi$]\")\n",
    "#plt.plot(r,rho/np.sum(rho),label=r\"$\\|\\psi\\|^2$\")\n",
    "plt.xlabel(r\"$r$ [a.u.]\")\n",
    "plt.ylabel(r\"$\\psi(r)$ [un-normalized]\")\n",
    "plt.legend()\n",
    "#plt.tight_layout()\n",
    "plt.show()\n",
    "\n",
    "\n",
    "# I've just solved the simple benchmark here\n",
    "# it may be interesting to explore some of the following\n",
    "# --> elementary exploration of QHO solution parameters (m,omega)\n",
    "# --> when does the fox-goowin solver fail? (what energies, grid spacings, RMAXs, l's, etc.). Why do you think that is?\n",
    "# --> Try an non infinite (scattering) potential\n",
    "# --> try adding complex terms to your potential\n",
    "# --> can you compose your work in problem 2 and calculate cross sections? (To see how this is done, check out https://github.com/beykyle/opxs)"
   ]
  },
  {
   "cell_type": "code",
   "execution_count": null,
   "metadata": {},
   "outputs": [],
   "source": []
  },
  {
   "cell_type": "code",
   "execution_count": null,
   "metadata": {},
   "outputs": [],
   "source": []
  },
  {
   "cell_type": "code",
   "execution_count": null,
   "metadata": {},
   "outputs": [],
   "source": []
  }
 ],
 "metadata": {
  "kernelspec": {
   "display_name": "Python 3",
   "language": "python",
   "name": "python3"
  },
  "language_info": {
   "codemirror_mode": {
    "name": "ipython",
    "version": 3
   },
   "file_extension": ".py",
   "mimetype": "text/x-python",
   "name": "python",
   "nbconvert_exporter": "python",
   "pygments_lexer": "ipython3",
   "version": "3.8.10"
  }
 },
 "nbformat": 4,
 "nbformat_minor": 4
}
